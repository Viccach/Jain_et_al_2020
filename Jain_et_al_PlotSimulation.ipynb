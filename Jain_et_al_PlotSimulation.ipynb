{
 "cells": [
  {
   "cell_type": "raw",
   "metadata": {},
   "source": [
    "This notebook plots the schematic representation of simulations: cells are represented by their nucleus, whose shape indicates the polarity state*, on the ring. Contact force magnitudes are represented by blue lines on cells. \n",
    "\n",
    "* Circle: Not polarized, Triangle: polarized in the direction indicated by the tip of the triangle. \n",
    "\n",
    "Victoire Cachoux, January 2020"
   ]
  },
  {
   "cell_type": "markdown",
   "metadata": {},
   "source": [
    "## Parameters - copy from main "
   ]
  },
  {
   "cell_type": "code",
   "execution_count": null,
   "metadata": {},
   "outputs": [],
   "source": [
    "M = 1::Int; # number of simulations  \n",
    "\n",
    "L = 60.0::Float64; # length of the periodic-boundaries stripe (in 10^-5 m)\n",
    "R = 2.0::Float64;   # radius of cells (in 10^-5 m)\n",
    "nCell = 7::Int;   # number of cells \n",
    "\n",
    "mu = 5.0e10::Float64; # friction coefficient. \n",
    "fMot = 8.3e-9*mu::Float64;  # motile force.\n",
    "fCont = 5.5*fMot::Float64;  # contact force maximum.\n",
    "sigma = 4.5e-8*mu::Float64; # standard deviation of Langevin gaussian noise.  \n",
    "\n",
    "f0 = 100.0::Float64;\n",
    "\n",
    "nTimeStep = 600::Int;  # number of time steps.\n",
    "dt = 0.01;  # numerical time step size. Should stay < 0.5. Real time step size = dt*Tm with Tm = muR/fMot.\n",
    "tInt = 1.0*60;\n",
    "\n",
    "directedRot = false;  # Don't put true if brokenPattern = true!\n",
    "randomPol = false;\n",
    "\n",
    "#  Integer scientific notation of mu for folder name. \n",
    "muA = mu; muB = 0;\n",
    "while muA>=100\n",
    "    muA /=10;\n",
    "    muB+=1;\n",
    "end\n",
    "\n",
    "folder = \"D:\\\\FolderName\"::AbstractString;  # path for creating directory\n",
    "folder = string(folder, \"\\\\t$(nTimeStep)_dt$(dt)_tInt$(tInt)\\\\L$(Int(round(L)))_R$(Int(round(R)))\\\\nCell$(nCell)\\\\fMot$(Int(round(fMot)))_fCont$(Int(round(fCont)))_sigma$(Int(round(sigma)))_mu$(Int(round(muA)))e$(muB)\\\\f0_$(Int(round(f0)))\")"
   ]
  },
  {
   "cell_type": "markdown",
   "metadata": {},
   "source": [
    "## Useful functions"
   ]
  },
  {
   "cell_type": "code",
   "execution_count": null,
   "metadata": {},
   "outputs": [],
   "source": [
    "function makeFolder(dir::AbstractString)  # Create the input directory if it doesnt exist \n",
    "    if !isdir(dir)\n",
    "        mkpath(dir)\n",
    "    end\n",
    "end "
   ]
  },
  {
   "cell_type": "markdown",
   "metadata": {},
   "source": [
    "## Code "
   ]
  },
  {
   "cell_type": "code",
   "execution_count": null,
   "metadata": {
    "scrolled": true
   },
   "outputs": [],
   "source": [
    "xC = R;\n",
    "LC = L/xC; \n",
    "tC = mu*R*10.0^(-5)/fMot;\n",
    "\n",
    "#####################\n",
    "for m= 1:M\n",
    "   println(\"Exp $m out of $M\")\n",
    "    \n",
    "                    ##### Create Folder for output graphs #####\n",
    "    dir = string(folder,\"\\\\exp$(dec(m,2))\");\n",
    "    ##dir = folder;\n",
    "    dirPlot = string(dir, \"\\\\plot\");\n",
    "    makeFolder(dirPlot);\n",
    "\n",
    "    using PyPlot\n",
    "    color = zeros(nCell,3);\n",
    "\n",
    "    for t=1:nTimeStep\n",
    "\n",
    "                    ##### Prepare plots path ##### \n",
    "        println(\"t = $t out of $nTimeStep ... \\n\")\n",
    "        oFileName = \"DataStep_$(dec(t,4)).csv\";\n",
    "        oFilePath = string(dir,'\\\\',oFileName);\n",
    "        imString = string(dirPlot,\"\\\\t_$(dec(t,4)).png\");\n",
    "    \n",
    "                    ##### Extract values for plots #####\n",
    "        oArray = readcsv(oFilePath);\n",
    "        posArray = oArray[:,2];\n",
    "        stateArray = oArray[:,5];\n",
    "        numArray = oArray[:,1];\n",
    "        fCArray = oArray[:,7];\n",
    "\n",
    "                    ##### Define colours for cells #####\n",
    "        for i=1:nCell\n",
    "            color[i,:] = [199, numArray[i,1]*33,numArray[i,1]*27];\n",
    "            color[i,:] .%= 200.0;\n",
    "            color[i,:] += 56.0;\n",
    "            color[i,:] /= 256.0;\n",
    "        end\n",
    "\n",
    "                    ##### Plot #####\n",
    "        xArray = LC*cos.(2.0*pi*posArray/LC)/(2.0*pi);\n",
    "        yArray = LC*sin.(2.0*pi*posArray/LC)/(2.0*pi);  \n",
    "        range = 0:1:100;\n",
    "    \n",
    "                        ### Black ring ###\n",
    "        plot(LC*cos.(2.0*pi*range/100)/(2.0*pi),LC*sin.(2.0*pi*range/100)/(2.0*pi),\"k\",zorder = 1)  \n",
    "\n",
    "                        ### Cell centers with scatter ###\n",
    "        for i=1:nCell\n",
    "            if i in wallCell\n",
    "                scatter(xArray[i,1],yArray[i,1], s=250, c=[0.2,0.2,0.2], marker = \"o\",linewidths = 1, edgecolors = \"k\",zorder = 3);\n",
    "            elseif stateArray[i,1] == 0.0 \n",
    "                scatter(xArray[i,1],yArray[i,1], s=250, c=[color[i,:]], marker = \"o\", linewidths = 1, edgecolors = \"k\",zorder = 3);\n",
    "            elseif stateArray[i,1] == -1.0\n",
    "                scatter(xArray[i,1],yArray[i,1], s=250, c=[color[i,:]], marker = (3,0,360*posArray[i,1]/LC+180), linewidths = 1, edgecolors = \"k\", zorder = 3);\n",
    "            else \n",
    "                scatter(xArray[i,1],yArray[i,1], s=250, c=[color[i,:]], marker = (3,0,360*posArray[i,1]/LC), linewidths = 1, edgecolors = \"k\", zorder = 3);\n",
    "            end\n",
    "\n",
    "                        ### Blue Lines for Contact forces ###\n",
    "            scatter(xArray[i,1],yArray[i,1], s=0.005*(fCArray[i,1])^2, c=\"b\", marker = (2,2,360*posArray[i,1]/LC+90),zorder = 4);\n",
    "        end\n",
    "    \n",
    "                    ##### Plot parameters #####\n",
    "        axis(\"square\")\n",
    "        PyPlot.autoscale(enable = false)\n",
    "        ylim(-3.0-LC/(2.0*pi) , 3.0+LC/(2.0*pi))\n",
    "        xlim(-3.0-LC/(2.0*pi) , 3.0+LC/(2.0*pi))  \n",
    "        text(0.0,-2.0-LC/(2.0*pi),\"t = $(round(t*dt*tC*10/3600)/10)h\",horizontalalignment=\"center\")\n",
    "        axis(\"off\")\n",
    "        \n",
    "                        ##### Save Figure #####\n",
    "        savefig(imString)\n",
    "        #savefig(imString, format = \"svg\")\n",
    "        close()\n",
    "    end\n",
    "end"
   ]
  }
 ],
 "metadata": {
  "anaconda-cloud": {},
  "kernelspec": {
   "display_name": "Julia 0.6.4",
   "language": "julia",
   "name": "julia-0.6"
  },
  "language_info": {
   "file_extension": ".jl",
   "mimetype": "application/julia",
   "name": "julia",
   "version": "0.6.4"
  }
 },
 "nbformat": 4,
 "nbformat_minor": 1
}
